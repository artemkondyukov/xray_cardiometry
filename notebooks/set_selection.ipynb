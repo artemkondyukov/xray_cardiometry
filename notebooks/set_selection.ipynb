{
 "cells": [
  {
   "cell_type": "code",
   "execution_count": 169,
   "metadata": {
    "collapsed": false
   },
   "outputs": [],
   "source": [
    "import dicom\n",
    "from functools import reduce\n",
    "import numpy as np\n",
    "from operator import add\n",
    "from os import path\n",
    "import pandas as pd\n",
    "from PIL import Image\n",
    "import random\n",
    "import numpy as np\n",
    "import _pickle"
   ]
  },
  {
   "cell_type": "code",
   "execution_count": 69,
   "metadata": {
    "collapsed": true
   },
   "outputs": [],
   "source": [
    "filenames = !ls /home/a.kondyukov/data/Indianapolis_dicom/**/*.dcm"
   ]
  },
  {
   "cell_type": "markdown",
   "metadata": {
    "collapsed": true
   },
   "source": [
    "So, now let's choose several categories of images for further processing."
   ]
  },
  {
   "cell_type": "code",
   "execution_count": 76,
   "metadata": {
    "collapsed": false
   },
   "outputs": [],
   "source": [
    "data_list = _pickle.load(open(\"../pickles/data_list\", \"rb\"))"
   ]
  },
  {
   "cell_type": "code",
   "execution_count": 80,
   "metadata": {
    "collapsed": false
   },
   "outputs": [],
   "source": [
    "major_flat = reduce(add, [data[\"MeSH\"][\"major\"] for data in data_list])"
   ]
  },
  {
   "cell_type": "code",
   "execution_count": 83,
   "metadata": {
    "collapsed": false,
    "scrolled": true
   },
   "outputs": [
    {
     "data": {
      "text/plain": [
       "normal                                                                2696\n",
       "Lung/hypoinflation                                                     467\n",
       "Lung/hyperdistention                                                   318\n",
       "Cardiomegaly                                                           269\n",
       "Cardiomegaly/mild                                                      245\n",
       "Aorta/tortuous                                                         225\n",
       "Thoracic Vertebrae/degenerative                                        212\n",
       "Spine/degenerative                                                     208\n",
       "Granulomatous Disease                                                  185\n",
       "Technical Quality of Image Unsatisfactory                              183\n",
       "Thoracic Vertebrae/degenerative/mild                                   172\n",
       "No Indexing                                                            172\n",
       "Atherosclerosis/aorta                                                  172\n",
       "Markings/bronchovascular                                               132\n",
       "Calcinosis/aorta                                                       121\n",
       "Aorta, Thoracic/tortuous                                               102\n",
       "Emphysema                                                               99\n",
       "Spondylosis/thoracic vertebrae                                          99\n",
       "Spine/degenerative/mild                                                 94\n",
       "Pulmonary Disease, Chronic Obstructive                                  93\n",
       "Pulmonary Congestion                                                    92\n",
       "Catheters, Indwelling/right                                             90\n",
       "Pulmonary Atelectasis/base/left                                         89\n",
       "Pulmonary Atelectasis/base/bilateral                                    82\n",
       "Cardiomegaly/borderline                                                 80\n",
       "Opacity/lung/base/left                                                  78\n",
       "Lung/hyperdistention/mild                                               75\n",
       "Catheters, Indwelling/left                                              75\n",
       "Diaphragm/right/elevated                                                66\n",
       "Aorta/tortuous/mild                                                     60\n",
       "                                                                      ... \n",
       "Opacity/lung/base/interstitial/reticular                                 1\n",
       "Opacity/lung/bilateral/interstitial/diffuse/reticular/round/severe       1\n",
       "Density/paratracheal                                                     1\n",
       "Pulmonary Artery/prominent/mild                                          1\n",
       "Lung/blood vessels/left/prominent/mild                                   1\n",
       "Adipose Tissue/right                                                     1\n",
       "Infiltrate/lung/lower lobe/right/interstitial/patchy                     1\n",
       "Pulmonary Atelectasis/middle lobe                                        1\n",
       "Opacity/lung/base/left/retrocardiac                                      1\n",
       "Calcinosis/bronchi/diffuse                                               1\n",
       "Cicatrix/lung/upper lobe/left/chronic                                    1\n",
       "Pleura/base/bilateral/abnormal/chronic                                   1\n",
       "Airspace Disease/lung/lingula                                            1\n",
       "Pleural Effusion/costophrenic angle/left/mild                            1\n",
       "Cicatrix/lung/base/left/chronic/mild                                     1\n",
       "Foreign Bodies/left                                                      1\n",
       "Calcinosis/lung/hilum/lymph nodes/left/small                             1\n",
       "Cicatrix/lung/apex/right/streaky                                         1\n",
       "Deformity/clavicle/right/chronic                                         1\n",
       "Kyphosis/thorax/severe                                                   1\n",
       "Pneumonia/focal/multiple                                                 1\n",
       "Thickening/pleura/apex/bilateral/chronic                                 1\n",
       "Infiltrate/lung/lower lobe/left/interstitial                             1\n",
       "Airspace Disease/lung/base/bilateral/patchy/mild                         1\n",
       "Markings/lung/lower lobe/left/interstitial                               1\n",
       "Pulmonary Emphysema/base/bilateral                                       1\n",
       "Shift/mediastinum/mild                                                   1\n",
       "Lucency/lung/base/right/irregular                                        1\n",
       "Pulmonary Fibrosis/base                                                  1\n",
       "Thoracic Vertebrae/degenerative/diffuse                                  1\n",
       "dtype: int64"
      ]
     },
     "execution_count": 83,
     "metadata": {},
     "output_type": "execute_result"
    }
   ],
   "source": [
    "pd.Series(major_flat).value_counts()"
   ]
  },
  {
   "cell_type": "markdown",
   "metadata": {},
   "source": [
    "The most obvious (though very useful) case is cardiomegaly, so write filenames of images with CM."
   ]
  },
  {
   "cell_type": "code",
   "execution_count": 155,
   "metadata": {
    "collapsed": false
   },
   "outputs": [
    {
     "name": "stdout",
     "output_type": "stream",
     "text": [
      "655\n"
     ]
    }
   ],
   "source": [
    "cardiomegaly_indices = set([i for i, data in enumerate(data_list) if \n",
    "                       any([\"cardiomegaly\" in s.lower() for s in data[\"MeSH\"][\"major\"]])])\n",
    "\n",
    "print(len(cardiomegaly_filenames))"
   ]
  },
  {
   "cell_type": "markdown",
   "metadata": {},
   "source": [
    "Next case we are able to try to detect is toruous aorta"
   ]
  },
  {
   "cell_type": "code",
   "execution_count": 156,
   "metadata": {
    "collapsed": false
   },
   "outputs": [
    {
     "name": "stdout",
     "output_type": "stream",
     "text": [
      "453\n"
     ]
    }
   ],
   "source": [
    "tort_aort_indices = set([i for i, data in enumerate(data_list) if \n",
    "                       any([\"tortuous\" in s.lower() and \n",
    "                            \"aorta\" in s.lower() for s in data[\"MeSH\"][\"major\"]])])\n",
    "\n",
    "print(len(tort_aort_filenames))"
   ]
  },
  {
   "cell_type": "markdown",
   "metadata": {},
   "source": [
    "Atherosclerosis."
   ]
  },
  {
   "cell_type": "code",
   "execution_count": 157,
   "metadata": {
    "collapsed": false
   },
   "outputs": [
    {
     "name": "stdout",
     "output_type": "stream",
     "text": [
      "233\n"
     ]
    }
   ],
   "source": [
    "atheros_indices = set([i for i, data in enumerate(data_list) if \n",
    "                       any([\"atherosclerosis\" in s.lower() for s in data[\"MeSH\"][\"major\"]])])\n",
    "\n",
    "print(len(atheros_filenames))"
   ]
  },
  {
   "cell_type": "markdown",
   "metadata": {},
   "source": [
    "Pleural effusion."
   ]
  },
  {
   "cell_type": "code",
   "execution_count": 158,
   "metadata": {
    "collapsed": false
   },
   "outputs": [
    {
     "name": "stdout",
     "output_type": "stream",
     "text": [
      "294\n"
     ]
    }
   ],
   "source": [
    "effusion_indices = set([i for i, data in enumerate(data_list) if \n",
    "                       any([\"effusion\" in s.lower() for s in data[\"MeSH\"][\"major\"]])])\n",
    "\n",
    "print(len(effusion_filenames))"
   ]
  },
  {
   "cell_type": "markdown",
   "metadata": {},
   "source": [
    "Here we choose examples with only one diagnosis."
   ]
  },
  {
   "cell_type": "code",
   "execution_count": 159,
   "metadata": {
    "collapsed": true
   },
   "outputs": [],
   "source": [
    "chosen_indides = dict()\n",
    "\n",
    "for s in [cardiomegaly_indices, tort_aort_indices, atheros_indices, effusion_indices]:\n",
    "    for d in s:\n",
    "        if d in chosen_indides:\n",
    "            chosen_indides[d] += 1\n",
    "        else:\n",
    "            chosen_indides[d] = 1\n",
    "            \n",
    "duplicates = [k for k, v in chosen_indides.items() if v >= 2]"
   ]
  },
  {
   "cell_type": "code",
   "execution_count": 160,
   "metadata": {
    "collapsed": false
   },
   "outputs": [],
   "source": [
    "for s in [cardiomegaly_indices, tort_aort_indices, atheros_indices, effusion_indices]:\n",
    "    s.difference_update(duplicates)"
   ]
  },
  {
   "cell_type": "code",
   "execution_count": 161,
   "metadata": {
    "collapsed": false
   },
   "outputs": [],
   "source": [
    "cardiomegaly_filenames = [data_list[i][\"localFilename\"] for i in cardiomegaly_indices]\n",
    "tort_aort_filenames = [data_list[i][\"localFilename\"] for i in tort_aort_indices]\n",
    "atheros_filenames = [data_list[i][\"localFilename\"] for i in atheros_indices]\n",
    "effusion_filenames = [data_list[i][\"localFilename\"] for i in effusion_indices]"
   ]
  },
  {
   "cell_type": "code",
   "execution_count": 164,
   "metadata": {
    "collapsed": true
   },
   "outputs": [],
   "source": [
    "!mkdir /home/a.kondyukov/data/Indianapolis_tiff/cardiomegaly\n",
    "!mkdir /home/a.kondyukov/data/Indianapolis_tiff/torture_aorta\n",
    "!mkdir /home/a.kondyukov/data/Indianapolis_tiff/atherosclerosis\n",
    "!mkdir /home/a.kondyukov/data/Indianapolis_tiff/pleural_effusion"
   ]
  },
  {
   "cell_type": "code",
   "execution_count": 173,
   "metadata": {
    "collapsed": false
   },
   "outputs": [],
   "source": [
    "for f in cardiomegaly_filenames:\n",
    "    new_f = path.split(f)[1]\n",
    "    !cp /home/a.kondyukov/data/Indianapolis_dicom/$f \\\n",
    "        /home/a.kondyukov/data/Indianapolis_sorted/cardiomegaly/$new_f"
   ]
  },
  {
   "cell_type": "code",
   "execution_count": 174,
   "metadata": {
    "collapsed": true
   },
   "outputs": [],
   "source": [
    "for f in tort_aort_filenames:\n",
    "    new_f = path.split(f)[1]\n",
    "    !cp /home/a.kondyukov/data/Indianapolis_dicom/$f \\\n",
    "        /home/a.kondyukov/data/Indianapolis_sorted/torture_aorta/$new_f"
   ]
  },
  {
   "cell_type": "code",
   "execution_count": 175,
   "metadata": {
    "collapsed": true
   },
   "outputs": [],
   "source": [
    "for f in atheros_filenames:\n",
    "    new_f = path.split(f)[1]\n",
    "    !cp /home/a.kondyukov/data/Indianapolis_dicom/$f \\\n",
    "        /home/a.kondyukov/data/Indianapolis_sorted/atherosclerosis/$new_f"
   ]
  },
  {
   "cell_type": "code",
   "execution_count": 176,
   "metadata": {
    "collapsed": true
   },
   "outputs": [],
   "source": [
    "for f in effusion_filenames:\n",
    "    new_f = path.split(f)[1]\n",
    "    !cp /home/a.kondyukov/data/Indianapolis_dicom/$f \\\n",
    "        /home/a.kondyukov/data/Indianapolis_sorted/pleural_effusion/$new_f"
   ]
  },
  {
   "cell_type": "markdown",
   "metadata": {},
   "source": [
    "And finally, let's convert all images we need to TIFF format."
   ]
  },
  {
   "cell_type": "code",
   "execution_count": 178,
   "metadata": {
    "collapsed": true
   },
   "outputs": [],
   "source": [
    "all_sets_filenames = !ls /home/a.kondyukov/data/Indianapolis_sorted/**/*.dcm\n",
    "\n",
    "for filename in all_sets_filenames:\n",
    "    img = Image.fromarray(dicom.read_file(filename).pixel_array)\n",
    "    img.save(filename.replace(\"sorted\", \"sorted_tiff\").replace(\"dcm\", \"tiff\"))"
   ]
  }
 ],
 "metadata": {
  "anaconda-cloud": {},
  "kernelspec": {
   "display_name": "Python [conda root]",
   "language": "python",
   "name": "conda-root-py"
  },
  "language_info": {
   "codemirror_mode": {
    "name": "ipython",
    "version": 3
   },
   "file_extension": ".py",
   "mimetype": "text/x-python",
   "name": "python",
   "nbconvert_exporter": "python",
   "pygments_lexer": "ipython3",
   "version": "3.5.2"
  }
 },
 "nbformat": 4,
 "nbformat_minor": 1
}
