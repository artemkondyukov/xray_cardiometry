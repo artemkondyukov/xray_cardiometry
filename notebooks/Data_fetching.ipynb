{
 "cells": [
  {
   "cell_type": "code",
   "execution_count": 1,
   "metadata": {
    "collapsed": false
   },
   "outputs": [],
   "source": [
    "import dicom\n",
    "from functools import reduce\n",
    "import json\n",
    "from matplotlib import pyplot as plt\n",
    "from multiprocessing import Pool\n",
    "import numpy as np\n",
    "from operator import add\n",
    "from os import path\n",
    "import pandas as pd\n",
    "import _pickle\n",
    "import re\n",
    "import requests\n",
    "from scipy.misc import imresize\n",
    "import sys\n",
    "\n",
    "%matplotlib inline"
   ]
  },
  {
   "cell_type": "markdown",
   "metadata": {},
   "source": [
    "First we need to download image descriptions from openi."
   ]
  },
  {
   "cell_type": "code",
   "execution_count": 2,
   "metadata": {
    "collapsed": true
   },
   "outputs": [],
   "source": [
    "data_list = []"
   ]
  },
  {
   "cell_type": "code",
   "execution_count": 3,
   "metadata": {
    "collapsed": false
   },
   "outputs": [
    {
     "name": "stdout",
     "output_type": "stream",
     "text": [
      "2971 3000\n",
      "5971 6000\n"
     ]
    }
   ],
   "source": [
    "i = 0\n",
    "\n",
    "while True:\n",
    "    begin = i * 30 + 1\n",
    "    end = (i + 1) * 30\n",
    "    resp = requests.get(\"https://openi.nlm.nih.gov/retrieve.php?it=x&coll=iu&fields=msh&m={}&n={}\".format(begin, end))\n",
    "    tmp_list = json.loads(resp.text)[\"list\"]\n",
    "    if len(tmp_list) < 1:\n",
    "        break\n",
    "    data_list.extend(tmp_list)\n",
    "    \n",
    "    i += 1\n",
    "    \n",
    "    if i % 100 == 0:\n",
    "        print(begin, end)"
   ]
  },
  {
   "cell_type": "markdown",
   "metadata": {},
   "source": [
    "Add filename to dict of image."
   ]
  },
  {
   "cell_type": "code",
   "execution_count": 4,
   "metadata": {
    "collapsed": false
   },
   "outputs": [],
   "source": [
    "pattern = re.compile(r\"(.*?)([0-9]+)_IM-([^\\.]*)\\.(.*)\")\n",
    "\n",
    "for data in data_list:\n",
    "    data[\"localFilename\"] = re.sub(pattern, r\"\\2/\\2_IM-\\3.dcm\", data[\"imgLarge\"])"
   ]
  },
  {
   "cell_type": "markdown",
   "metadata": {},
   "source": [
    "Check whether filenames are correct"
   ]
  },
  {
   "cell_type": "code",
   "execution_count": 5,
   "metadata": {
    "collapsed": false,
    "scrolled": true
   },
   "outputs": [],
   "source": [
    "dicom_filepaths = !ls /home/a.kondyukov/data/Indianapolis_dicom/**/*\n",
    "filenames_set = set(dicom_filepaths)\n",
    "\n",
    "for data in data_list:\n",
    "    var = \"/home/a.kondyukov/data/Indianapolis_dicom/\" + data[\"localFilename\"]\n",
    "    assert var in filenames_set\n",
    "        \n",
    "        \n",
    "new_filenames_set = set([\"/home/a.kondyukov/data/Indianapolis_dicom/\" + data[\"localFilename\"] for data in data_list])\n",
    "for cpath in dicom_filepaths:\n",
    "    assert cpath in new_filenames_set, cpath"
   ]
  },
  {
   "cell_type": "markdown",
   "metadata": {},
   "source": [
    "Fold majors list so as to find most common cases."
   ]
  },
  {
   "cell_type": "code",
   "execution_count": 6,
   "metadata": {
    "collapsed": true
   },
   "outputs": [],
   "source": [
    "majors = [data[\"MeSH\"][\"major\"] for data in data_list]\n",
    "localFilenames = [data[\"localFilename\"] for data in data_list]"
   ]
  },
  {
   "cell_type": "code",
   "execution_count": 7,
   "metadata": {
    "collapsed": false
   },
   "outputs": [],
   "source": [
    "majors_flat = reduce(add, majors)"
   ]
  },
  {
   "cell_type": "code",
   "execution_count": 8,
   "metadata": {
    "collapsed": true
   },
   "outputs": [],
   "source": [
    "cases = [\n",
    "    \"hypoinflation\", \n",
    "    \"hyperdistention\", \n",
    "    \"cardiomegaly\", \n",
    "    \"tortuous aorta\", \n",
    "    \"vertebrae degenerative\",\n",
    "    \"spine degenerative\",\n",
    "    \"granulomatous\",\n",
    "    \"atherosclerosis\",\n",
    "    \"calcinosis aorta\",\n",
    "    \"emphysema\"\n",
    "        ]"
   ]
  },
  {
   "cell_type": "code",
   "execution_count": 9,
   "metadata": {
    "collapsed": true
   },
   "outputs": [],
   "source": [
    "cases_df = pd.Series(majors_flat).value_counts()\n",
    "cases_df.index = pd.Series(cases_df.index).apply(lambda s: s.strip()).values"
   ]
  },
  {
   "cell_type": "markdown",
   "metadata": {},
   "source": [
    "Several dicts useful for mapping from disease to index in target array and vice versa."
   ]
  },
  {
   "cell_type": "code",
   "execution_count": 10,
   "metadata": {
    "collapsed": false
   },
   "outputs": [],
   "source": [
    "case_sets = dict()\n",
    "\n",
    "for case in cases:\n",
    "    case_sets[case] = set()\n",
    "    for major, count in cases_df.items():\n",
    "        if all([w in major.lower() for w in case.split(\" \")]):\n",
    "            if count >= 10:\n",
    "                case_sets[case].add(major)"
   ]
  },
  {
   "cell_type": "code",
   "execution_count": 11,
   "metadata": {
    "collapsed": false,
    "scrolled": true
   },
   "outputs": [],
   "source": [
    "reverse_case_dict = dict()\n",
    "\n",
    "for case in case_sets:\n",
    "    for cur_case in case_sets[case]:\n",
    "        reverse_case_dict[cur_case] = case"
   ]
  },
  {
   "cell_type": "code",
   "execution_count": 12,
   "metadata": {
    "collapsed": false
   },
   "outputs": [],
   "source": [
    "case_num_dict = dict()\n",
    "\n",
    "for i, c in enumerate(case_sets):\n",
    "    case_num_dict[c] = i"
   ]
  },
  {
   "cell_type": "code",
   "execution_count": 13,
   "metadata": {
    "collapsed": false
   },
   "outputs": [],
   "source": [
    "Y_width = len(case_sets)\n",
    "\n",
    "filename_case_dict = dict()\n",
    "\n",
    "for img_desc, major in zip(data_list, majors):\n",
    "    cur_res = np.zeros((Y_width, ), dtype=np.bool)\n",
    "    for i, cur_case in enumerate(major):\n",
    "        if cur_case in reverse_case_dict:\n",
    "            cur_res[case_num_dict[reverse_case_dict[cur_case]]] = True\n",
    "    filename_case_dict[img_desc[\"localFilename\"]] = cur_res.tolist()"
   ]
  },
  {
   "cell_type": "code",
   "execution_count": 14,
   "metadata": {
    "collapsed": false
   },
   "outputs": [],
   "source": [
    "json.dump(reverse_case_dict, open(\"../pickles/case_group.json\", \"w\"))\n",
    "json.dump(case_num_dict, open(\"../pickles/group_num.json\", \"w\"))\n",
    "json.dump(filename_case_dict, open(\"../pickles/filename_arr.json\", \"w\"))"
   ]
  },
  {
   "cell_type": "code",
   "execution_count": 22,
   "metadata": {
    "collapsed": true
   },
   "outputs": [],
   "source": [
    "IMAGE_SIZE = 1024"
   ]
  },
  {
   "cell_type": "markdown",
   "metadata": {},
   "source": [
    "Load images, resize them and obtain np.array; prepare target variables."
   ]
  },
  {
   "cell_type": "code",
   "execution_count": 43,
   "metadata": {
    "collapsed": false
   },
   "outputs": [
    {
     "name": "stdout",
     "output_type": "stream",
     "text": [
      "\r",
      "          \r",
      "6341it [17:14,  6.13it/s]"
     ]
    }
   ],
   "source": [
    "num_examples = len(filename_case_dict)\n",
    "X = np.zeros((num_examples, IMAGE_SIZE, IMAGE_SIZE, 1))\n",
    "y = np.zeros((num_examples,), dtype=[\n",
    "        (\"emphysema\", \"i1\"), \n",
    "        (\"hypoinflation\", \"i1\"), \n",
    "        (\"athersclerosis\", \"i1\"),\n",
    "        (\"granulomatous\", \"i1\"),\n",
    "        (\"calcinosis aorta\", \"i1\"),\n",
    "        (\"spine degenerative\", \"i1\"),\n",
    "        (\"tortuous aorta\", \"i1\"),\n",
    "        (\"cardiomegaly\", \"i1\"),\n",
    "        (\"vertebrae degenerative\", \"i1\"),\n",
    "        (\"hyperdistention\", \"i1\")\n",
    "    ])\n",
    "\n",
    "def fun(args):\n",
    "    k, v = args\n",
    "    cur_dcm = dicom.read_file(path.join(\"/home/a.kondyukov/data/Indianapolis_dicom/\", k))\n",
    "    return imresize(cur_dcm.pixel_array, [IMAGE_SIZE, IMAGE_SIZE]), tuple(v)\n",
    "\n",
    "rX = []\n",
    "rY = []\n",
    "\n",
    "with Pool(20) as p:\n",
    "    for rx, ry in tqdm_notebook(\n",
    "        p.imap(fun, filename_case_dict.items(), chunksize=5), \n",
    "        total=len(filename_case_dict) // 5):\n",
    "        \n",
    "        rX.append(rx)\n",
    "        rY.append(ry)"
   ]
  },
  {
   "cell_type": "code",
   "execution_count": 48,
   "metadata": {
    "collapsed": false
   },
   "outputs": [],
   "source": [
    "X = np.array(rX)\n",
    "\n",
    "for i, ry in enumerate(rY):\n",
    "    y[i] = ry"
   ]
  },
  {
   "cell_type": "code",
   "execution_count": 61,
   "metadata": {
    "collapsed": false
   },
   "outputs": [
    {
     "data": {
      "text/plain": [
       "array([(0, 0, 0, 0, 0, 0, 0, 0, 0, 0), (0, 0, 0, 0, 0, 0, 1, 0, 0, 0),\n",
       "       (0, 0, 0, 1, 0, 0, 1, 0, 0, 0), ..., (0, 0, 0, 0, 0, 0, 0, 0, 0, 0),\n",
       "       (0, 0, 0, 0, 0, 0, 0, 0, 0, 0), (0, 0, 0, 1, 0, 0, 0, 0, 1, 0)], \n",
       "      dtype=[('emphysema', 'i1'), ('hypoinflation', 'i1'), ('athersclerosis', 'i1'), ('granulomatous', 'i1'), ('calcinosis aorta', 'i1'), ('spine degenerative', 'i1'), ('tortuous aorta', 'i1'), ('cardiomegaly', 'i1'), ('vertebrae degenerative', 'i1'), ('hyperdistention', 'i1')])"
      ]
     },
     "execution_count": 61,
     "metadata": {},
     "output_type": "execute_result"
    }
   ],
   "source": [
    "y"
   ]
  },
  {
   "cell_type": "code",
   "execution_count": 70,
   "metadata": {
    "collapsed": false
   },
   "outputs": [],
   "source": [
    "np.savez_compressed(\"../pickles/data.npz\", X=X, y=y)"
   ]
  }
 ],
 "metadata": {
  "anaconda-cloud": {},
  "kernelspec": {
   "display_name": "Python [conda root]",
   "language": "python",
   "name": "conda-root-py"
  },
  "language_info": {
   "codemirror_mode": {
    "name": "ipython",
    "version": 3
   },
   "file_extension": ".py",
   "mimetype": "text/x-python",
   "name": "python",
   "nbconvert_exporter": "python",
   "pygments_lexer": "ipython3",
   "version": "3.5.2"
  },
  "widgets": {
   "state": {
    "09b64630779449d0a1ef733a53744c70": {
     "views": [
      {
       "cell_index": 25
      }
     ]
    }
   },
   "version": "1.2.0"
  }
 },
 "nbformat": 4,
 "nbformat_minor": 1
}
