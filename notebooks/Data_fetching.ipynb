{
 "cells": [
  {
   "cell_type": "markdown",
   "metadata": {},
   "source": [
    "Data fetching."
   ]
  },
  {
   "cell_type": "code",
   "execution_count": 3,
   "metadata": {
    "collapsed": false
   },
   "outputs": [],
   "source": [
    "import dicom\n",
    "from functools import reduce\n",
    "import json\n",
    "from matplotlib import pyplot as plt\n",
    "from operator import add\n",
    "from os import path\n",
    "import pandas as pd\n",
    "import re\n",
    "import requests\n",
    "\n",
    "%matplotlib inline"
   ]
  },
  {
   "cell_type": "code",
   "execution_count": 4,
   "metadata": {
    "collapsed": true
   },
   "outputs": [],
   "source": [
    "data_list = []"
   ]
  },
  {
   "cell_type": "code",
   "execution_count": 6,
   "metadata": {
    "collapsed": false
   },
   "outputs": [
    {
     "name": "stdout",
     "output_type": "stream",
     "text": [
      "2971 3000\n",
      "5971 6000\n"
     ]
    }
   ],
   "source": [
    "i = 0\n",
    "\n",
    "while True:\n",
    "    begin = i * 30 + 1\n",
    "    end = (i + 1) * 30\n",
    "    resp = requests.get(\"https://openi.nlm.nih.gov/retrieve.php?it=x&coll=iu&fields=msh&m={}&n={}\".format(begin, end))\n",
    "    tmp_list = json.loads(resp.text)[\"list\"]\n",
    "    if len(tmp_list) < 1:\n",
    "        break\n",
    "    data_list.extend(tmp_list)\n",
    "    \n",
    "    i += 1\n",
    "    \n",
    "    if i % 100 == 0:\n",
    "        print(begin, end)"
   ]
  },
  {
   "cell_type": "code",
   "execution_count": 7,
   "metadata": {
    "collapsed": false
   },
   "outputs": [],
   "source": [
    "pattern = re.compile(r\"(.*?)([0-9]+)_IM-([^\\.]*)\\.(.*)\")\n",
    "\n",
    "for data in data_list:\n",
    "    data[\"localFilename\"] = re.sub(pattern, r\"\\2/\\2_IM-\\3.dcm\", data[\"imgLarge\"])"
   ]
  },
  {
   "cell_type": "code",
   "execution_count": 8,
   "metadata": {
    "collapsed": false,
    "scrolled": true
   },
   "outputs": [],
   "source": [
    "dicom_filepaths = !ls /home/a.kondyukov/data/Indianapolis_dicom/**/*\n",
    "filenames_set = set(dicom_filepaths)\n",
    "\n",
    "for data in data_list:\n",
    "    var = \"/home/a.kondyukov/data/Indianapolis_dicom/\" + data[\"localFilename\"]\n",
    "    assert var in filenames_set\n",
    "        \n",
    "        \n",
    "new_filenames_set = set([\"/home/a.kondyukov/data/Indianapolis_dicom/\" + data[\"localFilename\"] for data in data_list])\n",
    "for path in dicom_filepaths:\n",
    "    assert path in new_filenames_set, path"
   ]
  },
  {
   "cell_type": "code",
   "execution_count": 9,
   "metadata": {
    "collapsed": true
   },
   "outputs": [],
   "source": [
    "majors = [data[\"MeSH\"][\"major\"] for data in data_list]"
   ]
  },
  {
   "cell_type": "code",
   "execution_count": 10,
   "metadata": {
    "collapsed": false
   },
   "outputs": [],
   "source": [
    "majors_flat = reduce(add, majors)"
   ]
  },
  {
   "cell_type": "code",
   "execution_count": 11,
   "metadata": {
    "collapsed": false
   },
   "outputs": [
    {
     "data": {
      "text/plain": [
       "15352"
      ]
     },
     "execution_count": 11,
     "metadata": {},
     "output_type": "execute_result"
    }
   ],
   "source": [
    "len(majors_flat)"
   ]
  },
  {
   "cell_type": "code",
   "execution_count": 12,
   "metadata": {
    "collapsed": false
   },
   "outputs": [
    {
     "data": {
      "text/plain": [
       "normal                                             2696\n",
       "Lung/hypoinflation                                  467\n",
       "Lung/hyperdistention                                318\n",
       "Cardiomegaly                                        269\n",
       "Cardiomegaly/mild                                   245\n",
       "Aorta/tortuous                                      225\n",
       "Thoracic Vertebrae/degenerative                     212\n",
       "Spine/degenerative                                  208\n",
       "Granulomatous Disease                               185\n",
       "Technical Quality of Image Unsatisfactory           183\n",
       "Atherosclerosis/aorta                               172\n",
       "No Indexing                                         172\n",
       "Thoracic Vertebrae/degenerative/mild                172\n",
       "Markings/bronchovascular                            132\n",
       "Calcinosis/aorta                                    121\n",
       "Aorta, Thoracic/tortuous                            102\n",
       "Emphysema                                            99\n",
       "Spondylosis/thoracic vertebrae                       99\n",
       "Spine/degenerative/mild                              94\n",
       "Pulmonary Disease, Chronic Obstructive               93\n",
       "Pulmonary Congestion                                 92\n",
       "Catheters, Indwelling/right                          90\n",
       "Pulmonary Atelectasis/base/left                      89\n",
       "Pulmonary Atelectasis/base/bilateral                 82\n",
       "Cardiomegaly/borderline                              80\n",
       "Opacity/lung/base/left                               78\n",
       "Catheters, Indwelling/left                           75\n",
       "Lung/hyperdistention/mild                            75\n",
       "Diaphragm/right/elevated                             66\n",
       "Aorta/tortuous/mild                                  60\n",
       "                                                   ... \n",
       "Osteoporosis                                          1\n",
       "Mass/lung/lingula                                     1\n",
       "Markings/lung/base/interstitial                       1\n",
       "Opacity/lung/apex/left/patchy                         1\n",
       "Opacity/lung/base/bilateral/patchy/mild               1\n",
       "Airspace Disease/lung/base/bilateral/patchy           1\n",
       "Costophrenic Angle/right/posterior/blunted/mild       1\n",
       "Costophrenic Angle/blunted/mild                       1\n",
       "Lung/lingula/obscured                                 1\n",
       "Airspace Disease/lung/base/left/patchy                1\n",
       "Consolidation/lung/multilobar                         1\n",
       "Cicatrix/lung/base/left/chronic/mild                  1\n",
       "Opacity/lung/base/interstitial/reticular              1\n",
       "Opacity/lung/retrocardiac/scattered/multiple          1\n",
       "Deformity/lung/apex/right/irregular                   1\n",
       "Density/thorax/multiple                               1\n",
       "Opacity/lung/base/interstitial/patchy                 1\n",
       "Lucency/diaphragm                                     1\n",
       "Calcified Granuloma/lung/base/bilateral               1\n",
       "Pulmonary Atelectasis/lower lobe/left/focal           1\n",
       "Cicatrix/pleura/base/bilateral/chronic                1\n",
       "Calcified Granuloma/lung/lingula/small                1\n",
       "Opacity/lung/diffuse/patchy                           1\n",
       "Pulmonary Atelectasis/base/posterior                  1\n",
       "Opacity/lung/bilateral/mild                           1\n",
       "Pulmonary Atelectasis/middle lobe                     1\n",
       "Pleural Effusion/upper lobe/right                     1\n",
       "Thickening/pleura/apex/bilateral/chronic              1\n",
       "Infiltrate/lung/lower lobe/left/interstitial          1\n",
       "Calcinosis/right/retrocardiac                         1\n",
       "dtype: int64"
      ]
     },
     "execution_count": 12,
     "metadata": {},
     "output_type": "execute_result"
    }
   ],
   "source": [
    "pd.Series(majors_flat).value_counts()"
   ]
  }
 ],
 "metadata": {
  "anaconda-cloud": {},
  "kernelspec": {
   "display_name": "Python [conda root]",
   "language": "python",
   "name": "conda-root-py"
  },
  "language_info": {
   "codemirror_mode": {
    "name": "ipython",
    "version": 3
   },
   "file_extension": ".py",
   "mimetype": "text/x-python",
   "name": "python",
   "nbconvert_exporter": "python",
   "pygments_lexer": "ipython3",
   "version": "3.5.2"
  }
 },
 "nbformat": 4,
 "nbformat_minor": 1
}
