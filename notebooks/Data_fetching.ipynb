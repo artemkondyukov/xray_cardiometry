{
 "cells": [
  {
   "cell_type": "markdown",
   "metadata": {},
   "source": [
    "Data fetching."
   ]
  },
  {
   "cell_type": "code",
   "execution_count": 10,
   "metadata": {
    "collapsed": true
   },
   "outputs": [],
   "source": [
    "import dicom\n",
    "from functools import reduce\n",
    "import json\n",
    "from matplotlib import pyplot as plt\n",
    "from operator import add\n",
    "from os import path\n",
    "import pandas as pd\n",
    "import \n",
    "import re\n",
    "import requests\n",
    "\n",
    "%matplotlib inline"
   ]
  },
  {
   "cell_type": "code",
   "execution_count": 2,
   "metadata": {
    "collapsed": true
   },
   "outputs": [],
   "source": [
    "data_list = []"
   ]
  },
  {
   "cell_type": "code",
   "execution_count": 3,
   "metadata": {
    "collapsed": false
   },
   "outputs": [
    {
     "name": "stdout",
     "output_type": "stream",
     "text": [
      "2971 3000\n",
      "5971 6000\n"
     ]
    }
   ],
   "source": [
    "i = 0\n",
    "\n",
    "while True:\n",
    "    begin = i * 30 + 1\n",
    "    end = (i + 1) * 30\n",
    "    resp = requests.get(\"https://openi.nlm.nih.gov/retrieve.php?it=x&coll=iu&fields=msh&m={}&n={}\".format(begin, end))\n",
    "    tmp_list = json.loads(resp.text)[\"list\"]\n",
    "    if len(tmp_list) < 1:\n",
    "        break\n",
    "    data_list.extend(tmp_list)\n",
    "    \n",
    "    i += 1\n",
    "    \n",
    "    if i % 100 == 0:\n",
    "        print(begin, end)"
   ]
  },
  {
   "cell_type": "code",
   "execution_count": 4,
   "metadata": {
    "collapsed": false
   },
   "outputs": [],
   "source": [
    "pattern = re.compile(r\"(.*?)([0-9]+)_IM-([^\\.]*)\\.(.*)\")\n",
    "\n",
    "for data in data_list:\n",
    "    data[\"localFilename\"] = re.sub(pattern, r\"\\2/\\2_IM-\\3.dcm\", data[\"imgLarge\"])"
   ]
  },
  {
   "cell_type": "code",
   "execution_count": 5,
   "metadata": {
    "collapsed": false,
    "scrolled": true
   },
   "outputs": [],
   "source": [
    "dicom_filepaths = !ls /home/a.kondyukov/data/Indianapolis_dicom/**/*\n",
    "filenames_set = set(dicom_filepaths)\n",
    "\n",
    "for data in data_list:\n",
    "    var = \"/home/a.kondyukov/data/Indianapolis_dicom/\" + data[\"localFilename\"]\n",
    "    assert var in filenames_set\n",
    "        \n",
    "        \n",
    "new_filenames_set = set([\"/home/a.kondyukov/data/Indianapolis_dicom/\" + data[\"localFilename\"] for data in data_list])\n",
    "for path in dicom_filepaths:\n",
    "    assert path in new_filenames_set, path"
   ]
  },
  {
   "cell_type": "code",
   "execution_count": 6,
   "metadata": {
    "collapsed": true
   },
   "outputs": [],
   "source": [
    "majors = [data[\"MeSH\"][\"major\"] for data in data_list]"
   ]
  },
  {
   "cell_type": "code",
   "execution_count": 11,
   "metadata": {
    "collapsed": false
   },
   "outputs": [],
   "source": [
    "majors_flat = reduce(add, majors)"
   ]
  },
  {
   "cell_type": "code",
   "execution_count": 12,
   "metadata": {
    "collapsed": false
   },
   "outputs": [
    {
     "data": {
      "text/plain": [
       "15352"
      ]
     },
     "execution_count": 12,
     "metadata": {},
     "output_type": "execute_result"
    }
   ],
   "source": [
    "len(majors_flat)"
   ]
  },
  {
   "cell_type": "code",
   "execution_count": 13,
   "metadata": {
    "collapsed": false
   },
   "outputs": [
    {
     "data": {
      "text/plain": [
       "normal                                                    2696\n",
       "Lung/hypoinflation                                         467\n",
       "Lung/hyperdistention                                       318\n",
       "Cardiomegaly                                               269\n",
       "Cardiomegaly/mild                                          245\n",
       "Aorta/tortuous                                             225\n",
       "Thoracic Vertebrae/degenerative                            212\n",
       "Spine/degenerative                                         208\n",
       "Granulomatous Disease                                      185\n",
       "Technical Quality of Image Unsatisfactory                  183\n",
       "Atherosclerosis/aorta                                      172\n",
       "No Indexing                                                172\n",
       "Thoracic Vertebrae/degenerative/mild                       172\n",
       "Markings/bronchovascular                                   132\n",
       "Calcinosis/aorta                                           121\n",
       "Aorta, Thoracic/tortuous                                   102\n",
       "Emphysema                                                   99\n",
       "Spondylosis/thoracic vertebrae                              99\n",
       "Spine/degenerative/mild                                     94\n",
       "Pulmonary Disease, Chronic Obstructive                      93\n",
       "Pulmonary Congestion                                        92\n",
       "Catheters, Indwelling/right                                 90\n",
       "Pulmonary Atelectasis/base/left                             89\n",
       "Pulmonary Atelectasis/base/bilateral                        82\n",
       "Cardiomegaly/borderline                                     80\n",
       "Opacity/lung/base/left                                      78\n",
       "Lung/hyperdistention/mild                                   75\n",
       "Catheters, Indwelling/left                                  75\n",
       "Diaphragm/right/elevated                                    66\n",
       "Aorta/tortuous/mild                                         60\n",
       "                                                          ... \n",
       "Spinal Fusion/cervical vertebrae/posterior/severe            1\n",
       "Kyphosis/thorax/severe                                       1\n",
       "Opacity/lung/upper lobe/left/irregular                       1\n",
       "Pulmonary Atelectasis/chronic                                1\n",
       "Pulmonary Atelectasis/middle lobe                            1\n",
       "Heart/obscured                                               1\n",
       "Lucency/lung/upper lobe/bilateral                            1\n",
       "Lucency/clavicle/left                                        1\n",
       "Thickening/pleura/apex/bilateral/chronic                     1\n",
       "Cicatrix/pleura/base/bilateral/chronic                       1\n",
       "Nodule/lung/hilum                                            1\n",
       "Thickening/pleura/upper lobe/right                           1\n",
       "Opacity/lung/interstitial/reticular/mild                     1\n",
       "Costophrenic Angle/right/posterior/blunted/mild              1\n",
       "Cicatrix/lung/base/bilateral/chronic                         1\n",
       "Nodule/pleura/left                                           1\n",
       "Pulmonary Atelectasis/lower lobe/left/focal                  1\n",
       "Atherosclerosis/severe                                       1\n",
       "Spinal Fusion                                                1\n",
       "Calcinosis/mitral valve/prominent                            1\n",
       "Foreign Bodies/clavicle/left                                 1\n",
       "Cicatrix/lung/upper lobe/left/chronic                        1\n",
       "Cicatrix/pleura/left                                         1\n",
       "Osteoporosis                                                 1\n",
       "Pneumonia/base/bilateral/patchy                              1\n",
       "Osteophyte/thoracic vertebrae/right/prominent/multiple       1\n",
       "Opacity/lung/base/interstitial/patchy                        1\n",
       "Ribs/right/posterior/enlarged/mild                           1\n",
       "Infiltrate/lung/lower lobe/right/interstitial/patchy         1\n",
       "Diaphragm/left/flattened                                     1\n",
       "dtype: int64"
      ]
     },
     "execution_count": 13,
     "metadata": {},
     "output_type": "execute_result"
    }
   ],
   "source": [
    "pd.Series(majors_flat).value_counts()"
   ]
  },
  {
   "cell_type": "code",
   "execution_count": null,
   "metadata": {
    "collapsed": true
   },
   "outputs": [],
   "source": []
  }
 ],
 "metadata": {
  "anaconda-cloud": {},
  "kernelspec": {
   "display_name": "Python [conda root]",
   "language": "python",
   "name": "conda-root-py"
  },
  "language_info": {
   "codemirror_mode": {
    "name": "ipython",
    "version": 3
   },
   "file_extension": ".py",
   "mimetype": "text/x-python",
   "name": "python",
   "nbconvert_exporter": "python",
   "pygments_lexer": "ipython3",
   "version": "3.5.2"
  }
 },
 "nbformat": 4,
 "nbformat_minor": 1
}
