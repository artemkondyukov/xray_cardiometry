{
 "cells": [
  {
   "cell_type": "code",
   "execution_count": 33,
   "metadata": {
    "collapsed": true
   },
   "outputs": [],
   "source": [
    "import dicom\n",
    "import numpy as np\n",
    "import os\n",
    "import pandas as pd\n",
    "import re"
   ]
  },
  {
   "cell_type": "code",
   "execution_count": 4,
   "metadata": {
    "collapsed": true
   },
   "outputs": [],
   "source": [
    "var = !ls /home/a.kondyukov/data/Indianapolis_dicom/**/ | grep '.dcm$'"
   ]
  },
  {
   "cell_type": "code",
   "execution_count": 6,
   "metadata": {
    "collapsed": false
   },
   "outputs": [
    {
     "data": {
      "text/plain": [
       "'1_IM-0001-3001.dcm'"
      ]
     },
     "execution_count": 6,
     "metadata": {},
     "output_type": "execute_result"
    }
   ],
   "source": [
    "var[0]"
   ]
  },
  {
   "cell_type": "code",
   "execution_count": 29,
   "metadata": {
    "collapsed": false
   },
   "outputs": [],
   "source": [
    "prefix = \"/home/a.kondyukov/data/Indianapolis_dicom\"\n",
    "imgs = []\n",
    "\n",
    "for filename in var:\n",
    "    path = re.sub(r\"([0-9]+)_(.*)\", r\"\\1/\\1_\\2\", filename)\n",
    "    img = dicom.read_file(os.path.join(prefix, path))\n",
    "    imgs.append(img)"
   ]
  },
  {
   "cell_type": "code",
   "execution_count": 36,
   "metadata": {
    "collapsed": false
   },
   "outputs": [
    {
     "data": {
      "text/plain": [
       "(0008, 0008) Image Type                          CS: ['DERIVED', 'PRIMARY']\n",
       "(0008, 0012) Instance Creation Date              DA: '20120229'\n",
       "(0008, 0013) Instance Creation Time              TM: '152117'\n",
       "(0008, 0016) SOP Class UID                       UI: Computed Radiography Image Storage\n",
       "(0008, 0018) SOP Instance UID                    UI: 9999.175629291572769951830861722809980658657\n",
       "(0008, 0020) Study Date                          DA: '20120229'\n",
       "(0008, 0030) Study Time                          TM: ''\n",
       "(0008, 0050) Accession Number                    SH: '1290436665346037'\n",
       "(0008, 0060) Modality                            CS: 'CR'\n",
       "(0008, 0070) Manufacturer                        LO: ''\n",
       "(0008, 0090) Referring Physician's Name          PN: ''\n",
       "(0010, 0010) Patient's Name                      PN: '1'\n",
       "(0010, 0020) Patient ID                          LO: '1'\n",
       "(0010, 0030) Patient's Birth Date                DA: '19880317'\n",
       "(0010, 0040) Patient's Sex                       CS: ''\n",
       "(0018, 0010) Contrast/Bolus Agent                LO: ''\n",
       "(0018, 0015) Body Part Examined                  CS: 'CHEST'\n",
       "(0018, 0060) KVP                                 DS: '0'\n",
       "(0018, 1041) Contrast/Bolus Volume               DS: '0'\n",
       "(0018, 1044) Contrast/Bolus Total Dose           DS: '0'\n",
       "(0018, 1110) Distance Source to Detector         DS: '0'\n",
       "(0018, 1150) Exposure Time                       IS: '0'\n",
       "(0018, 1151) X-Ray Tube Current                  IS: '0'\n",
       "(0018, 1152) Exposure                            IS: '0'\n",
       "(0018, 1160) Filter Type                         SH: ''\n",
       "(0018, 1164) Imager Pixel Spacing                DS: ['0.1500', '0.1500']\n",
       "(0018, 1166) Grid                                CS: ''\n",
       "(0018, 1180) Collimator/grid Name                SH: ''\n",
       "(0018, 1190) Focal Spot(s)                       DS: ''\n",
       "(0018, 1191) Anode Target Material               CS: ''\n",
       "(0018, 11a0) Body Part Thickness                 DS: '0'\n",
       "(0018, 11a2) Compression Force                   DS: '0'\n",
       "(0018, 1260) Plate Type                          SH: 'AGFAMD'\n",
       "(0018, 1401) Acquisition Device Processing Code  LO: ''\n",
       "(0018, 1402) Cassette Orientation                CS: 'PORTRAIT'\n",
       "(0018, 1403) Cassette Size                       CS: '35CMX43CM'\n",
       "(0018, 1404) Exposures on Plate                  US: 2689\n",
       "(0018, 1405) Relative X-Ray Exposure             IS: '1820'\n",
       "(0018, 1510) Positioner Primary Angle            DS: '0'\n",
       "(0018, 5100) Patient Position                    CS: ''\n",
       "(0018, 5101) View Position                       CS: 'PA'\n",
       "(0018, 6000) Sensitivity                         DS: '400'\n",
       "(0018, 7050) Filter Material                     LT: ''\n",
       "(0018, 7060) Exposure Control Mode               CS: ''\n",
       "(0018, 7062) Exposure Control Mode Description   LT: ''\n",
       "(0018, 7065) Phototimer Setting                  DS: '0'\n",
       "(0019, 0010) Private Creator                     LO: 'AGFA'\n",
       "(0020, 000d) Study Instance UID                  UI: 9999.53902242455004373766930040478354736549\n",
       "(0020, 000e) Series Instance UID                 UI: 9999.12237337051279661631398565469800040628\n",
       "(0020, 0010) Study ID                            SH: ''\n",
       "(0020, 0011) Series Number                       IS: '3'\n",
       "(0020, 0013) Instance Number                     IS: '1'\n",
       "(0020, 0020) Patient Orientation                 CS: ['L', 'F']\n",
       "(0020, 0060) Laterality                          CS: ''\n",
       "(0028, 0002) Samples per Pixel                   US: 1\n",
       "(0028, 0004) Photometric Interpretation          CS: 'MONOCHROME1'\n",
       "(0028, 0010) Rows                                US: 2828\n",
       "(0028, 0011) Columns                             US: 2320\n",
       "(0028, 0030) Pixel Spacing                       DS: ['0.1500', '0.1500']\n",
       "(0028, 0100) Bits Allocated                      US: 16\n",
       "(0028, 0101) Bits Stored                         US: 15\n",
       "(0028, 0102) High Bit                            US: 14\n",
       "(0028, 0103) Pixel Representation                US: 0\n",
       "(0028, 1052) Rescale Intercept                   DS: '0'\n",
       "(0028, 1053) Rescale Slope                       DS: '1'\n",
       "(0028, 1054) Rescale Type                        LO: 'P REL'\n",
       "(0028, 3010)  VOI LUT Sequence   1 item(s) ---- \n",
       "   (0028, 3002) LUT Descriptor                      US: [20897, 6552, 16]\n",
       "   (0028, 3003) LUT Explanation                     LO: 'E25'\n",
       "   (0028, 3006) LUT Data                            OW: Array of 41794 bytes\n",
       "   ---------\n",
       "(0040, 8302) Entrance Dose in mGy                DS: '0'\n",
       "(2020, 0020) Polarity                            CS: 'NORMAL'\n",
       "(2050, 0020) Presentation LUT Shape              CS: 'INVERSE'\n",
       "(300a, 0212) Source Number                       IS: ''\n",
       "(300a, 0214) Source Type                         CS: ''\n",
       "(300e, 0002) Approval Status                     CS: 'CREATED'\n",
       "(7fe0, 0010) Pixel Data                          OW: Array of 13121920 bytes"
      ]
     },
     "execution_count": 36,
     "metadata": {},
     "output_type": "execute_result"
    }
   ],
   "source": [
    "imgs[0]"
   ]
  },
  {
   "cell_type": "code",
   "execution_count": 32,
   "metadata": {
    "collapsed": false
   },
   "outputs": [],
   "source": [
    "mans = [i.Manufacturer for i in imgs]"
   ]
  },
  {
   "cell_type": "code",
   "execution_count": 34,
   "metadata": {
    "collapsed": false
   },
   "outputs": [
    {
     "data": {
      "text/plain": [
       "    7470\n",
       "dtype: int64"
      ]
     },
     "execution_count": 34,
     "metadata": {},
     "output_type": "execute_result"
    }
   ],
   "source": [
    "pd.Series(mans).value_counts()"
   ]
  },
  {
   "cell_type": "code",
   "execution_count": 25,
   "metadata": {
    "collapsed": false
   },
   "outputs": [
    {
     "data": {
      "text/plain": [
       "608"
      ]
     },
     "execution_count": 25,
     "metadata": {},
     "output_type": "execute_result"
    }
   ],
   "source": [
    "np.argmax(np.array(shapes)[:, 0])"
   ]
  },
  {
   "cell_type": "code",
   "execution_count": 26,
   "metadata": {
    "collapsed": false
   },
   "outputs": [
    {
     "data": {
      "text/plain": [
       "609"
      ]
     },
     "execution_count": 26,
     "metadata": {},
     "output_type": "execute_result"
    }
   ],
   "source": [
    "np.argmax(np.array(shapes)[:, 1])"
   ]
  },
  {
   "cell_type": "code",
   "execution_count": 27,
   "metadata": {
    "collapsed": false
   },
   "outputs": [
    {
     "data": {
      "text/plain": [
       "(4248, 3480)"
      ]
     },
     "execution_count": 27,
     "metadata": {},
     "output_type": "execute_result"
    }
   ],
   "source": [
    "shapes[608]"
   ]
  },
  {
   "cell_type": "code",
   "execution_count": 28,
   "metadata": {
    "collapsed": false
   },
   "outputs": [
    {
     "data": {
      "text/plain": [
       "(3480, 4248)"
      ]
     },
     "execution_count": 28,
     "metadata": {},
     "output_type": "execute_result"
    }
   ],
   "source": [
    "shapes[609]"
   ]
  },
  {
   "cell_type": "code",
   "execution_count": null,
   "metadata": {
    "collapsed": true
   },
   "outputs": [],
   "source": []
  }
 ],
 "metadata": {
  "anaconda-cloud": {},
  "kernelspec": {
   "display_name": "Python [default]",
   "language": "python",
   "name": "python3"
  },
  "language_info": {
   "codemirror_mode": {
    "name": "ipython",
    "version": 3
   },
   "file_extension": ".py",
   "mimetype": "text/x-python",
   "name": "python",
   "nbconvert_exporter": "python",
   "pygments_lexer": "ipython3",
   "version": "3.5.2"
  }
 },
 "nbformat": 4,
 "nbformat_minor": 1
}
